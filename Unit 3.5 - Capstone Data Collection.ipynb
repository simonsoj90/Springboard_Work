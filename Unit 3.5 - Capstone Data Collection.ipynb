{
 "cells": [
  {
   "cell_type": "markdown",
   "metadata": {},
   "source": [
    "## Data Collection 3.5"
   ]
  },
  {
   "cell_type": "markdown",
   "metadata": {},
   "source": [
    "### Note:\n",
    "All data sources are [too large to upload to GitHub](https://help.github.com/en/github/managing-large-files/conditions-for-large-files), even using the Git Large File Storage (data sets are upwards of 100,000 KB)"
   ]
  },
  {
   "cell_type": "markdown",
   "metadata": {},
   "source": [
    "## 1. CIFAR 100\n",
    "\n",
    "This dataset was found via Google Dataset search and is available through [fast.ai](https://course.fast.ai/datasets#image-localization). The download method is straightforward -- navigate to the site and download the zip files locally. This dataset is just like the CIFAR-10, except it has 100 classes containing 600 images each. There are 500 training images and 100 testing images per class. The 100 classes in the CIFAR-100 are grouped into 20 superclasses. Each image comes with a “fine” label (the class to which it belongs) and a “coarse” label (the superclass to which it belongs)."
   ]
  },
  {
   "cell_type": "markdown",
   "metadata": {},
   "source": [
    "## 2. Histological images for tumor detection in gastrointestinal cancer\n",
    "This dataset was found via Google Dataset search and is available through [Zenodo](https://zenodo.org/record/2530789#.Xrqn0mhKhPY). The download method is straightforward -- navigate to the site and download the zip files locally. It contains ~12,000 images of cancerous and non-cancerous tissue images. This set contains three classes:\n",
    "\n",
    "    ADIMUC - adipose tissue and mucus, i.e. loose non-tumor tissue\n",
    "    STRMUS - stroma and muscle, i.e. dense non-tumor tissue\n",
    "    TUMSTU - colorectal cancer epithelial tissue and stomach cancer epithelial tissue, i.e. tumor tissue"
   ]
  },
  {
   "cell_type": "markdown",
   "metadata": {},
   "source": [
    "## 3. Pascal Visual Object Classes\n",
    "\n",
    "This dataset was found via [fast.ai](https://course.fast.ai/datasets). Accessing the dataset was done by simple navigating to the webpage and downloading the .tgz file containing the images. It is a standardised image data sets for object class recognition. It has 20 classes. The train/val data has 11,530 images containing 27,450 ROI annotated objects and 6,929 segmentations."
   ]
  },
  {
   "cell_type": "code",
   "execution_count": null,
   "metadata": {
    "collapsed": true
   },
   "outputs": [],
   "source": []
  }
 ],
 "metadata": {
  "kernelspec": {
   "display_name": "Python 3",
   "language": "python",
   "name": "python3"
  },
  "language_info": {
   "codemirror_mode": {
    "name": "ipython",
    "version": 3
   },
   "file_extension": ".py",
   "mimetype": "text/x-python",
   "name": "python",
   "nbconvert_exporter": "python",
   "pygments_lexer": "ipython3",
   "version": "3.6.3"
  }
 },
 "nbformat": 4,
 "nbformat_minor": 2
}
