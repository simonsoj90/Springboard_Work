{
 "cells": [
  {
   "cell_type": "code",
   "execution_count": null,
   "metadata": {},
   "outputs": [],
   "source": [
    "import pydicom as dicom\n",
    "import os\n",
    "import cv2\n",
    "import PIL # optional\n",
    "folder_path = r\"D:\\CBIS-DDSM\"\n",
    "images_path = os.listdir(folder_path)\n",
    "for image in images_path:\n",
    "    path = os.path.join(folder_path, image)\n",
    "    dirs = os.listdir(path)\n",
    "    for d in dirs:\n",
    "        sub_dirs = os.path.join(path, d)\n",
    "        sub_sub_dirs = os.listdir(sub_dirs)\n",
    "        for x in sub_sub_dirs:\n",
    "            p = os.path.join(sub_dirs, x)\n",
    "            z = os.listdir(p)\n",
    "            for i in z:\n",
    "                img = os.path.join(p, i)\n",
    "                ds = dicom.dcmread(img)\n",
    "                pixel_array_numpy = ds.pixel_array\n",
    "                img = img.replace('.dcm', '.png')\n",
    "                cv2.imwrite(img, pixel_array_numpy)\n",
    "                os.remove(img.replace('.png', '.dcm'))"
   ]
  }
 ],
 "metadata": {
  "kernelspec": {
   "display_name": "Python 3",
   "language": "python",
   "name": "python3"
  },
  "language_info": {
   "codemirror_mode": {
    "name": "ipython",
    "version": 3
   },
   "file_extension": ".py",
   "mimetype": "text/x-python",
   "name": "python",
   "nbconvert_exporter": "python",
   "pygments_lexer": "ipython3",
   "version": "3.7.6"
  }
 },
 "nbformat": 4,
 "nbformat_minor": 4
}
