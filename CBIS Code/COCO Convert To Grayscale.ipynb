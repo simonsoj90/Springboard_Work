{
 "cells": [
  {
   "cell_type": "code",
   "execution_count": 1,
   "metadata": {},
   "outputs": [],
   "source": [
    "import os\n",
    "from PIL import Image, ImageOps\n",
    "train = 'train2014'\n",
    "val = 'val2014'\n",
    "test = 'test2014'\n",
    "parent_dir = \"D:/\""
   ]
  },
  {
   "cell_type": "code",
   "execution_count": 3,
   "metadata": {},
   "outputs": [],
   "source": [
    "# COCO images\n",
    "for d in [train, val, test]:\n",
    "    images = os.listdir(f'{parent_dir}{d}')\n",
    "    for i in images:\n",
    "        path = f'{parent_dir}{d}/{i}'\n",
    "        img1 = Image.open(path)\n",
    "        img2 = ImageOps.grayscale(img1)\n",
    "        img2.save(path)"
   ]
  },
  {
   "cell_type": "code",
   "execution_count": 14,
   "metadata": {},
   "outputs": [],
   "source": [
    "# breast cancer images - drop dcm and convert png to grayscale\n",
    "base_path = base_path = \"D:/cbis_ddsm/CBIS-DDSM\"\n",
    "dirs = os.listdir(base_path)\n",
    "for file in dirs:\n",
    "    path = f'{base_path}/{file}'\n",
    "    subdir = os.listdir(path)[0]\n",
    "    sub_path = f'{path}/{subdir}'\n",
    "    final_dir = os.listdir(sub_path)[0]\n",
    "    final_path = f'{sub_path}/{final_dir}'\n",
    "    images = os.listdir(final_path)\n",
    "    for image in images:\n",
    "        path = f'{final_path}/{image}'\n",
    "        if path.endswith('dcm'):\n",
    "            print('removing {0}'.format(path))\n",
    "            os.remove(path)"
   ]
  },
  {
   "cell_type": "code",
   "execution_count": null,
   "metadata": {},
   "outputs": [],
   "source": []
  },
  {
   "cell_type": "code",
   "execution_count": null,
   "metadata": {},
   "outputs": [],
   "source": []
  },
  {
   "cell_type": "code",
   "execution_count": null,
   "metadata": {},
   "outputs": [],
   "source": []
  }
 ],
 "metadata": {
  "kernelspec": {
   "display_name": "Python 3",
   "language": "python",
   "name": "python3"
  },
  "language_info": {
   "codemirror_mode": {
    "name": "ipython",
    "version": 3
   },
   "file_extension": ".py",
   "mimetype": "text/x-python",
   "name": "python",
   "nbconvert_exporter": "python",
   "pygments_lexer": "ipython3",
   "version": "3.7.6"
  }
 },
 "nbformat": 4,
 "nbformat_minor": 4
}
