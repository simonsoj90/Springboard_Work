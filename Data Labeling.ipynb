{
 "cells": [
  {
   "cell_type": "code",
   "execution_count": 7,
   "metadata": {},
   "outputs": [],
   "source": [
    "import numpy as np\n",
    "import pandas as pd\n",
    "import os\n",
    "import re\n",
    "import shutil"
   ]
  },
  {
   "cell_type": "code",
   "execution_count": 16,
   "metadata": {},
   "outputs": [],
   "source": [
    "#Labels for train and test data for both calc and mass cases\n",
    "\n",
    "## Train data labels\n",
    "calc_train = pd.read_csv(\"/Users/jacksimonson/Documents/cbis_ddsm descriptions/calc_case_description_train_set.csv\")\n",
    "# calc_train['image_name'] = calc_train.patient_id + '_' + calc_train['left or right breast'] + '_' + calc_train['image view'] + '.png'\n",
    "# calc_train.drop([\"image file path\",\"cropped image file path\",\"ROI mask file path\"], axis=1, inplace=True)\n",
    "# calc_train.columns = [\"Patient_ID\",\"Breast_Density\",\"Side_L_R\",\"Image View\",\"Abnormality_ID\",\"Abnormality_Type\",\"Mass_Shape\",\"Mass_Margins\",\"Assessment\",\"Pathology\", \"Subtlety\",\"Image_Name\"]\n",
    "\n",
    "mass_train = pd.read_csv(\"/Users/jacksimonson/Documents/cbis_ddsm descriptions/mass_case_description_train_set.csv\")\n",
    "# mass_train['image_name'] = mass_train.patient_id + '_' + mass_train['left or right breast'] + '_' + mass_train['image view'] + '.png'\n",
    "# mass_train.drop([\"image file path\",\"cropped image file path\",\"ROI mask file path\"], axis=1, inplace=True)\n",
    "# mass_train.columns = [\"Patient_ID\",\"Breast_Density\",\"Side_L_R\",\"Image View\",\"Abnormality_ID\",\"Abnormality_Type\",\"Mass_Shape\",\"Mass_Margins\",\"Assessment\",\"Pathology\", \"Subtlety\",\"Image_Name\"]\n",
    "\n",
    "\n",
    "## Test data labels\n",
    "calc_test = pd.read_csv(\"/Users/jacksimonson/Documents/cbis_ddsm descriptions/calc_case_description_test_set.csv\")\n",
    "# calc_test['image_name'] = calc_test.patient_id + '_' + calc_test['left or right breast'] + '_' + calc_test['image view'] + '.png'\n",
    "# calc_test.drop([\"image file path\",\"cropped image file path\",\"ROI mask file path\"], axis=1, inplace=True)\n",
    "# calc_test.columns = [\"Patient_ID\",\"Breast_Density\",\"Side_L_R\",\"Image View\",\"Abnormality_ID\",\"Abnormality_Type\",\"Mass_Shape\",\"Mass_Margins\",\"Assessment\",\"Pathology\", \"Subtlety\",\"Image_Name\"]\n",
    "\n",
    "mass_test = pd.read_csv(\"/Users/jacksimonson/Documents/cbis_ddsm descriptions/mass_case_description_test_set.csv\")\n",
    "# mass_test['image_name'] = mass_test.patient_id + '_' + mass_test['left or right breast'] + '_' + mass_test['image view'] + '.png'\n",
    "# mass_test.drop([\"image file path\",\"cropped image file path\",\"ROI mask file path\"], axis=1, inplace=True)\n",
    "# mass_test.columns = [\"Patient_ID\",\"Breast_Density\",\"Side_L_R\",\"Image View\",\"Abnormality_ID\",\"Abnormality_Type\",\"Mass_Shape\",\"Mass_Margins\",\"Assessment\",\"Pathology\", \"Subtlety\",\"Image_Name\"]\n",
    "\n",
    "\n",
    "# Train and Test label\n",
    "# train_label = pd.concat([calc_train, mass_train], axis = 0)\n",
    "# train_label['Pathology'][train_label['Pathology'] == 'BENIGN_WITHOUT_CALLBACK'] = 'BENIGN'\n",
    "# train_label['Class'] = train_label['Pathology'] + '_' + train_label['Abnormality_Type']\n",
    "\n",
    "# test_label = pd.concat([calc_test, mass_test], axis = 0)\n",
    "# test_label['Pathology'][test_label['Pathology'] == 'BENIGN_WITHOUT_CALLBACK'] = 'BENIGN'\n",
    "# test_label['Class'] = test_label['Pathology'] + '_' + test_label['Abnormality_Type']\n",
    "\n",
    "# # Set image_name to be the index\n",
    "# train_label.set_index(\"Image_Name\", inplace = True)\n",
    "# test_label.set_index(\"Image_Name\", inplace = True)\n",
    "\n",
    "#test_label.head()"
   ]
  },
  {
   "cell_type": "code",
   "execution_count": 20,
   "metadata": {},
   "outputs": [
    {
     "data": {
      "text/plain": [
       "'Calc-Training_P_00005_RIGHT_MLO/1.3.6.1.4.1.9590.100.1.2.427517897311902339923511678883689433338/1.3.6.1.4.1.9590.100.1.2.250596608311207922527805669693579696727/000000.dcm'"
      ]
     },
     "execution_count": 20,
     "metadata": {},
     "output_type": "execute_result"
    }
   ],
   "source": [
    "calc_train['image file path'][1]"
   ]
  },
  {
   "cell_type": "code",
   "execution_count": 50,
   "metadata": {},
   "outputs": [],
   "source": [
    "basedir = '/Users/jacksimonson/Documents/CBIS-DDSM'\n",
    "dfs = calc_train.append(mass_train)\n",
    "for index, row in dfs.iterrows():\n",
    "    if row['pathology'] == 'BENIGN_WITHOUT_CALLBACK':\n",
    "        continue\n",
    "    img_path = '/'.join(row['image file path'].split('/')[:-1])\n",
    "    full_path = os.path.join(basedir, img_path)\n",
    "    img_name = os.listdir(full_path)[0]\n",
    "    image_path = os.path.join(full_path, img_name)\n",
    "    image_category = image_path.split('/')[5]\n",
    "    dest_path = \"/Users/jacksimonson/Documents/CBIS-DDSM Train/{}/{}.png\".format(row['pathology'], image_category)\n",
    "    shutil.copyfile(image_path, dest_path)"
   ]
  },
  {
   "cell_type": "code",
   "execution_count": 51,
   "metadata": {},
   "outputs": [],
   "source": [
    "basedir = '/Users/jacksimonson/Documents/CBIS-DDSM'\n",
    "dfs = calc_test.append(mass_test)\n",
    "for index, row in dfs.iterrows():\n",
    "    if row['pathology'] == 'BENIGN_WITHOUT_CALLBACK':\n",
    "        continue\n",
    "    img_path = '/'.join(row['image file path'].split('/')[:-1])\n",
    "    full_path = os.path.join(basedir, img_path)\n",
    "    img_name = os.listdir(full_path)[0]\n",
    "    image_path = os.path.join(full_path, img_name)\n",
    "    image_category = image_path.split('/')[5]\n",
    "    dest_path = \"/Users/jacksimonson/Documents/CBIS-DDSM Test/{}/{}.png\".format(row['pathology'], image_category)\n",
    "    shutil.copyfile(image_path, dest_path)"
   ]
  },
  {
   "cell_type": "code",
   "execution_count": 4,
   "metadata": {},
   "outputs": [],
   "source": [
    "# train_label.to_pickle(\"/Users/jacksimonson/Documents/cbis_ddsm descriptions/train_label.pkl\")\n",
    "# test_label.to_pickle(\"/Users/jacksimonson/Documents/cbis_ddsm descriptions/test_label.pkl\")"
   ]
  },
  {
   "cell_type": "code",
   "execution_count": null,
   "metadata": {},
   "outputs": [],
   "source": []
  }
 ],
 "metadata": {
  "kernelspec": {
   "display_name": "Python 3",
   "language": "python",
   "name": "python3"
  },
  "language_info": {
   "codemirror_mode": {
    "name": "ipython",
    "version": 3
   },
   "file_extension": ".py",
   "mimetype": "text/x-python",
   "name": "python",
   "nbconvert_exporter": "python",
   "pygments_lexer": "ipython3",
   "version": "3.7.6"
  }
 },
 "nbformat": 4,
 "nbformat_minor": 4
}
